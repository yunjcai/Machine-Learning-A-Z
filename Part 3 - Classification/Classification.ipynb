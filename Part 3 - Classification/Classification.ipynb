{
 "cells": [
  {
   "cell_type": "markdown",
   "metadata": {},
   "source": [
    "# Classification"
   ]
  },
  {
   "cell_type": "markdown",
   "metadata": {},
   "source": [
    "Unlike regression where you predict a continuous number, you use classification to predict a category. \n",
    "\n",
    "Classification models include linear models like Logistic Regression, SVM, and nonlinear ones like K-NN, Kernel SVM and Random Forests."
   ]
  },
  {
   "cell_type": "code",
   "execution_count": 1,
   "metadata": {},
   "outputs": [],
   "source": [
    "import numpy as np\n",
    "import pandas as pd\n",
    "import matplotlib.pyplot as plt"
   ]
  },
  {
   "cell_type": "markdown",
   "metadata": {},
   "source": [
    "## Logistic Regression"
   ]
  },
  {
   "cell_type": "markdown",
   "metadata": {},
   "source": [
    "Logistic Regression is used when the dependent variable(target) is categorical.<br>\n",
    "Logistic Regression is a linear classifier.<br>\n",
    "Logistic Regression returns probabilities.\n",
    "\n",
    "For example,\n",
    "* To predict whether an email is spam (1) or (0)\n",
    "* Whether the tumor is malignant (1) or not (0)\n",
    "\n",
    "Linear Function: $y = b_0 + b_1x$<br>\n",
    "<font color='blue'>Logistic Function: $p = \\frac{1}{1+e^{-y}}$  $\\longrightarrow$  $p(x) = \\frac{1}{1+e^{-(b_0 + b_1x)}}$</font> where $p(x)$ is the Probability of $x$<img src='https://miro.medium.com/max/875/1*RqXFpiNGwdiKBWyLJc_E7g.png' width=600>\n",
    "Inverse of Logistic Function:  $ln(\\frac{p(x)}{1-p(x)}) = b_0 + b_1x$"
   ]
  },
  {
   "cell_type": "code",
   "execution_count": 2,
   "metadata": {},
   "outputs": [
    {
     "data": {
      "text/html": [
       "<div>\n",
       "<style scoped>\n",
       "    .dataframe tbody tr th:only-of-type {\n",
       "        vertical-align: middle;\n",
       "    }\n",
       "\n",
       "    .dataframe tbody tr th {\n",
       "        vertical-align: top;\n",
       "    }\n",
       "\n",
       "    .dataframe thead th {\n",
       "        text-align: right;\n",
       "    }\n",
       "</style>\n",
       "<table border=\"1\" class=\"dataframe\">\n",
       "  <thead>\n",
       "    <tr style=\"text-align: right;\">\n",
       "      <th></th>\n",
       "      <th>User ID</th>\n",
       "      <th>Gender</th>\n",
       "      <th>Age</th>\n",
       "      <th>EstimatedSalary</th>\n",
       "      <th>Purchased</th>\n",
       "    </tr>\n",
       "  </thead>\n",
       "  <tbody>\n",
       "    <tr>\n",
       "      <th>0</th>\n",
       "      <td>15624510</td>\n",
       "      <td>Male</td>\n",
       "      <td>19</td>\n",
       "      <td>19000</td>\n",
       "      <td>0</td>\n",
       "    </tr>\n",
       "    <tr>\n",
       "      <th>1</th>\n",
       "      <td>15810944</td>\n",
       "      <td>Male</td>\n",
       "      <td>35</td>\n",
       "      <td>20000</td>\n",
       "      <td>0</td>\n",
       "    </tr>\n",
       "    <tr>\n",
       "      <th>2</th>\n",
       "      <td>15668575</td>\n",
       "      <td>Female</td>\n",
       "      <td>26</td>\n",
       "      <td>43000</td>\n",
       "      <td>0</td>\n",
       "    </tr>\n",
       "    <tr>\n",
       "      <th>3</th>\n",
       "      <td>15603246</td>\n",
       "      <td>Female</td>\n",
       "      <td>27</td>\n",
       "      <td>57000</td>\n",
       "      <td>0</td>\n",
       "    </tr>\n",
       "    <tr>\n",
       "      <th>4</th>\n",
       "      <td>15804002</td>\n",
       "      <td>Male</td>\n",
       "      <td>19</td>\n",
       "      <td>76000</td>\n",
       "      <td>0</td>\n",
       "    </tr>\n",
       "  </tbody>\n",
       "</table>\n",
       "</div>"
      ],
      "text/plain": [
       "    User ID  Gender  Age  EstimatedSalary  Purchased\n",
       "0  15624510    Male   19            19000          0\n",
       "1  15810944    Male   35            20000          0\n",
       "2  15668575  Female   26            43000          0\n",
       "3  15603246  Female   27            57000          0\n",
       "4  15804002    Male   19            76000          0"
      ]
     },
     "execution_count": 2,
     "metadata": {},
     "output_type": "execute_result"
    }
   ],
   "source": [
    "dataset = pd.read_csv('Social_Network_Ads.csv')\n",
    "dataset.head()"
   ]
  },
  {
   "cell_type": "code",
   "execution_count": 3,
   "metadata": {},
   "outputs": [],
   "source": [
    "X = dataset.iloc[:,[2,3]].values\n",
    "y = dataset.iloc[:,-1].values\n",
    "\n",
    "from sklearn.preprocessing import StandardScaler\n",
    "X = StandardScaler().fit_transform(X)\n",
    "\n",
    "from sklearn.model_selection import train_test_split\n",
    "X_train,X_test,y_train,y_test = train_test_split(X,y,test_size=0.25,random_state=0)"
   ]
  },
  {
   "cell_type": "markdown",
   "metadata": {},
   "source": [
    "### Fitting Logistic Regression"
   ]
  },
  {
   "cell_type": "markdown",
   "metadata": {},
   "source": [
    "Logistic Regression is a linear classifier which means the categories will be separated by a straight line"
   ]
  },
  {
   "cell_type": "code",
   "execution_count": 4,
   "metadata": {},
   "outputs": [
    {
     "data": {
      "text/plain": [
       "array([0, 0, 0, 0, 0, 0, 0, 1, 0, 1, 0, 0, 0, 0, 0, 0, 0, 0, 1, 0, 0, 1,\n",
       "       0, 1, 0, 1, 0, 0, 0, 0, 0, 0, 1, 0, 0, 0, 0, 0, 0, 1, 0, 0, 0, 0,\n",
       "       1, 0, 0, 1, 0, 1, 1, 0, 0, 0, 1, 0, 0, 0, 0, 0, 0, 1, 0, 0, 0, 1,\n",
       "       0, 0, 0, 0, 1, 0, 0, 0, 0, 0, 1, 0, 1, 1, 1, 1, 0, 0, 1, 1, 0, 1,\n",
       "       0, 0, 0, 1, 0, 0, 0, 0, 0, 0, 1, 1], dtype=int64)"
      ]
     },
     "execution_count": 4,
     "metadata": {},
     "output_type": "execute_result"
    }
   ],
   "source": [
    "from sklearn.linear_model import LogisticRegression\n",
    "classifier = LogisticRegression(random_state=0,solver='lbfgs')\n",
    "classifier.fit(X_train,y_train)\n",
    "y_pred = classifier.predict(X_test)\n",
    "y_pred"
   ]
  },
  {
   "cell_type": "markdown",
   "metadata": {},
   "source": [
    "### Evaluate the Logistic Regression (Confusion Matrix)"
   ]
  },
  {
   "cell_type": "code",
   "execution_count": 5,
   "metadata": {},
   "outputs": [],
   "source": [
    "from sklearn.metrics import confusion_matrix"
   ]
  },
  {
   "cell_type": "markdown",
   "metadata": {},
   "source": [
    "Class contains Upper case at beginning of the word, but function is all Lower case"
   ]
  },
  {
   "cell_type": "code",
   "execution_count": 6,
   "metadata": {},
   "outputs": [
    {
     "data": {
      "text/plain": [
       "array([[65,  3],\n",
       "       [ 8, 24]], dtype=int64)"
      ]
     },
     "execution_count": 6,
     "metadata": {},
     "output_type": "execute_result"
    }
   ],
   "source": [
    "cm = confusion_matrix(y_test,y_pred)\n",
    "cm"
   ]
  },
  {
   "cell_type": "markdown",
   "metadata": {},
   "source": [
    "Where '65' and '24' are correct prediction, it means there're 89 (65+24) correct predictions and 11 (3+8) incorrect predictions"
   ]
  },
  {
   "cell_type": "markdown",
   "metadata": {},
   "source": [
    "### Visualising"
   ]
  },
  {
   "cell_type": "markdown",
   "metadata": {},
   "source": [
    "The prediction boundary is always a straight line if The logistic regression classifier is linear<br>\n",
    "如果是 2 Dimensions 的话, prediction boundary是一条线。如果是3D的话, prediction boundary是一个直平面<br>\n",
    "The prediction boundary can be non-linear when we build non-linear classifiers<br>\n",
    "\n",
    "The idea to plot the following graph is to take all the pixel points of the framework and apply the classifier on it. It makes each pixel will have X (age) and y (salary).<br>\n",
    "Then we apply the logistic regression to predict if each pixel point has value 0 or 1. <br>\n",
    "It's going to colorize the pixel in red if it is 0, and it's green if it's 1."
   ]
  },
  {
   "cell_type": "markdown",
   "metadata": {},
   "source": [
    "contour  - 绘制等高线<br>\n",
    "contourf - 填充等高线。实际上contourf 相当于 contour filled<br>\n",
    "等高线填充: mp.contourf(x, y, z, 等高线条数，cmap=颜色映射)<br>\n",
    "等高线绘制: mp.contour(x, y, z, 等高线条数，colors=颜色, linewidth=线宽)"
   ]
  },
  {
   "cell_type": "code",
   "execution_count": 7,
   "metadata": {},
   "outputs": [
    {
     "name": "stderr",
     "output_type": "stream",
     "text": [
      "'c' argument looks like a single numeric RGB or RGBA sequence, which should be avoided as value-mapping will have precedence in case its length matches with 'x' & 'y'.  Please use a 2-D array with a single row if you really want to specify the same RGB or RGBA value for all points.\n",
      "'c' argument looks like a single numeric RGB or RGBA sequence, which should be avoided as value-mapping will have precedence in case its length matches with 'x' & 'y'.  Please use a 2-D array with a single row if you really want to specify the same RGB or RGBA value for all points.\n"
     ]
    },
    {
     "data": {
      "image/png": "[encoded data removed]",
      "text/plain": [
       "<Figure size 432x288 with 1 Axes>"
      ]
     },
     "metadata": {
      "needs_background": "light"
     },
     "output_type": "display_data"
    }
   ],
   "source": [
    "from matplotlib.colors import ListedColormap    # ListedColormap helps us colorize all the data points\n",
    "# Create some local variable X set that we can replace X_train easily by other data later (ie. X_test)\n",
    "X_set, y_set = X_train, y_train    \n",
    "# np.meshgrid prepares all the pixel points, min and max value +-1 because we don't want the points to be squeezed on the axes\n",
    "# X_set[:,0] is age and X_set[:,1] is salary in this case\n",
    "# 生成网格数据\n",
    "X1,X2 = np.meshgrid(np.arange(start=X_set[:,0].min()-1, stop=X_set[:,0].max()+1, step=0.01),\n",
    "                    np.arange(start=X_set[:,1].min()-1, stop=X_set[:,1].max()+1, step=0.01))\n",
    "# Use the contourf function to actually make the contour between the two prediction regions\n",
    "# X1.ravel() 将 matrix 变成 1D array\n",
    "plt.contourf(X1,X2,classifier.predict(np.array([X1.ravel(),X2.ravel()]).T).reshape(X1.shape),\n",
    "             alpha=0.75, cmap=ListedColormap(('red','green')))\n",
    "plt.xlim(X1.min(),X1.max())\n",
    "plt.ylim(X2.min(),X2.max())\n",
    "for i, j in enumerate(np.unique(y_set)):\n",
    "    plt.scatter(X_set[y_set==j,0],X_set[y_set==j,1],c=ListedColormap(('red','green'))(i),label=j)\n",
    "plt.title('Logistic Regression (Training Set)')\n",
    "plt.xlabel('Age')\n",
    "plt.ylabel('Estimated Salary')\n",
    "plt.legend()\n",
    "plt.show()"
   ]
  },
  {
   "cell_type": "markdown",
   "metadata": {},
   "source": [
    "## K-Nearest Neighbors (K-NN)"
   ]
  },
  {
   "cell_type": "markdown",
   "metadata": {},
   "source": [
    "K-NN: 离需预测点最近的K个点来划分，划分区域内哪个categoray的点最多，预测点归哪个categoray.\n",
    "\n",
    "**STEP 1:** Choose the number K of neighbors (most common default k = 5)<br>\n",
    "**STEP 2:** Take the K nearest neighbors of the new data point, according to the Euclidean distance (most case)<br>\n",
    "**STEP 3:** Among these K neighbors, count the number of data points in each category<br>\n",
    "**STEP 4:** Assign the new data point to the category where you counted the most neighbors<br>\n",
    "\n",
    "Euclidean Distance:  $dist(p,q) = \\sqrt{(q_1 - p_1)^2 + (q_2 - p_2)^2 + ... + (q_n - p_n)^2}$<br>\n",
    "\n",
    "K-NN is a non-linear classification"
   ]
  },
  {
   "cell_type": "markdown",
   "metadata": {},
   "source": [
    "### Fitting K-NN Classifier"
   ]
  },
  {
   "cell_type": "code",
   "execution_count": 8,
   "metadata": {},
   "outputs": [
    {
     "data": {
      "text/plain": [
       "array([[64,  4],\n",
       "       [ 3, 29]], dtype=int64)"
      ]
     },
     "execution_count": 8,
     "metadata": {},
     "output_type": "execute_result"
    }
   ],
   "source": [
    "from sklearn.neighbors import KNeighborsClassifier as knn\n",
    "classifier = knn()    \n",
    "# default n_neighbors = 5; use default setting metric = 'minkowski'and p =2, \n",
    "# so that we can use Euclidean distance (default)\n",
    "classifier.fit(X_train,y_train)\n",
    "y_pred = classifier.predict(X_test)\n",
    "\n",
    "from sklearn.metrics import confusion_matrix\n",
    "cm = confusion_matrix(y_test,y_pred)\n",
    "cm"
   ]
  },
  {
   "cell_type": "code",
   "execution_count": 9,
   "metadata": {},
   "outputs": [
    {
     "name": "stderr",
     "output_type": "stream",
     "text": [
      "'c' argument looks like a single numeric RGB or RGBA sequence, which should be avoided as value-mapping will have precedence in case its length matches with 'x' & 'y'.  Please use a 2-D array with a single row if you really want to specify the same RGB or RGBA value for all points.\n",
      "'c' argument looks like a single numeric RGB or RGBA sequence, which should be avoided as value-mapping will have precedence in case its length matches with 'x' & 'y'.  Please use a 2-D array with a single row if you really want to specify the same RGB or RGBA value for all points.\n"
     ]
    },
    {
     "data": {
      "image/png": "[encoded data removed]",
      "text/plain": [
       "<Figure size 432x288 with 1 Axes>"
      ]
     },
     "metadata": {
      "needs_background": "light"
     },
     "output_type": "display_data"
    }
   ],
   "source": [
    "# Create some local variable X set that we can replace X_train easily by other data later (ie. X_test)\n",
    "X_set, y_set = X_train, y_train    \n",
    "# np.meshgrid prepares all the pixel points, min and max value +-1 because we don't want the points to be squeezed on the axes\n",
    "# X_set[:,0] is age and X_set[:,1] is salary in this case\n",
    "X1,X2 = np.meshgrid(np.arange(start=X_set[:,0].min()-1, stop=X_set[:,0].max()+1, step=0.01),\n",
    "                    np.arange(start=X_set[:,1].min()-1, stop=X_set[:,1].max()+1, step=0.01))\n",
    "# Use the contourf function to actually make the contour between the two prediction regions\n",
    "# X1.ravel() 将 matrix 变成 1D array\n",
    "plt.contourf(X1,X2,classifier.predict(np.array([X1.ravel(),X2.ravel()]).T).reshape(X1.shape),\n",
    "             alpha=0.75, cmap=ListedColormap(('red','green')))\n",
    "plt.xlim(X1.min(),X1.max())\n",
    "plt.ylim(X2.min(),X2.max())\n",
    "for i, j in enumerate(np.unique(y_set)):\n",
    "    plt.scatter(X_set[y_set==j,0],X_set[y_set==j,1],c=ListedColormap(('red','green'))(i),label=j)\n",
    "plt.title('K-NN Regression (Training Set)')\n",
    "plt.xlabel('Age')\n",
    "plt.ylabel('Estimated Salary')\n",
    "plt.legend()\n",
    "plt.show()"
   ]
  },
  {
   "cell_type": "markdown",
   "metadata": {},
   "source": [
    "## Support Vector Machine (SVM)"
   ]
  },
  {
   "cell_type": "markdown",
   "metadata": {},
   "source": [
    "SVM finds the best decision boundary to separate the space<br>\n",
    "\n",
    "The line will draw the equal distance between the closet points in the different categories<br>\n",
    "\n",
    "Those closet points in the different categories are called Support Vector<br>\n",
    "\n",
    "The line (in 2D, in multi D, it's hyperplane) to separate the categories is called Maximum Margin Hyperplane<br>\n",
    "\n",
    "SVM focuses on the closet categories (ie. the apple looks like orange, and the orange looks like the apple).这点和其他机器学习相反。因为Support Vector本身就非常互相接近。"
   ]
  },
  {
   "cell_type": "markdown",
   "metadata": {},
   "source": [
    "## Kernel SVM"
   ]
  },
  {
   "cell_type": "markdown",
   "metadata": {},
   "source": [
    "### Mapping to a Higher Dimension"
   ]
  },
  {
   "cell_type": "markdown",
   "metadata": {},
   "source": [
    "不可分割的non-linear data set $\\rightarrow$ Mapping Funcion $\\varphi(x_1,x_2) = (x_1,x_2,z)$ $\\rightarrow$ Higher Dimension $\\rightarrow$ Find Hyperplane $\\rightarrow$ Projection back $\\rightarrow$ Get Non-Linear Separator<br>\n",
    "\n",
    "For example, non-linear unseparatable 2D space could become a linearly separate if we map it into 3D space (Hyperplane)\n",
    "\n",
    "缺点：太复杂，太消耗processor。"
   ]
  },
  {
   "cell_type": "markdown",
   "metadata": {},
   "source": [
    "### The Gaussian RBF Kernel"
   ]
  },
  {
   "cell_type": "markdown",
   "metadata": {},
   "source": [
    "**优势特点：**不用建立高维空间，就能建立非常复杂的 non-linear decision boundary"
   ]
  },
  {
   "cell_type": "markdown",
   "metadata": {},
   "source": [
    "$K(x,l_i) = e^{-\\frac{||x-l_i||^2}{2\\sigma^2}}$<br><br>\n",
    "$l_i$ is landmark(图形的中心点)。$||x-l_i||$表示每一个$x$到中心点的距离方程。$x$离中心越远，图形surface的值越接近0; $x$越接近中心点，值越接近1。\n",
    "\n",
    "$\\sigma$用来决定波底的圆多宽。<img src='https://github.com/yunjcai/Machine-Learning-A-Z/blob/master/Part%203%20-%20Classification/Gaussian_Kernel_1.JPG?raw=true' width='600'>\n",
    "<img src='https://github.com/yunjcai/Machine-Learning-A-Z/blob/master/Part%203%20-%20Classification/Gaussian_Kernel_2.JPG?raw=true' width='600'>\n",
    "<img src='https://github.com/yunjcai/Machine-Learning-A-Z/blob/master/Part%203%20-%20Classification/Gaussian_Kernel_3.JPG?raw=true' width='600'>"
   ]
  },
  {
   "cell_type": "markdown",
   "metadata": {},
   "source": [
    "### Types of Kernel Functions"
   ]
  },
  {
   "cell_type": "markdown",
   "metadata": {},
   "source": [
    "<img src='https://github.com/yunjcai/Machine-Learning-A-Z/blob/master/Part%203%20-%20Classification/kernel_type.JPG?raw=true' width='600'>"
   ]
  },
  {
   "cell_type": "code",
   "execution_count": 10,
   "metadata": {},
   "outputs": [
    {
     "name": "stderr",
     "output_type": "stream",
     "text": [
      "C:\\Users\\XZV838\\AppData\\Local\\Continuum\\anaconda3\\lib\\site-packages\\sklearn\\svm\\base.py:193: FutureWarning: The default value of gamma will change from 'auto' to 'scale' in version 0.22 to account better for unscaled features. Set gamma explicitly to 'auto' or 'scale' to avoid this warning.\n",
      "  \"avoid this warning.\", FutureWarning)\n"
     ]
    }
   ],
   "source": [
    "from sklearn.svm import SVC\n",
    "\n",
    "# Use default kernel, which is Gaussian Kernel ('rbf')\n",
    "classifier = SVC(random_state=0).fit(X_train,y_train)"
   ]
  },
  {
   "cell_type": "code",
   "execution_count": 11,
   "metadata": {},
   "outputs": [],
   "source": [
    "y_pred = classifier.predict(X_test)\n",
    "cm = confusion_matrix(y_test,y_pred)\n",
    "cm"
   ]
  },
  {
   "cell_type": "code",
   "execution_count": 12,
   "metadata": {},
   "outputs": [
    {
     "name": "stderr",
     "output_type": "stream",
     "text": [
      "'c' argument looks like a single numeric RGB or RGBA sequence, which should be avoided as value-mapping will have precedence in case its length matches with 'x' & 'y'.  Please use a 2-D array with a single row if you really want to specify the same RGB or RGBA value for all points.\n",
      "'c' argument looks like a single numeric RGB or RGBA sequence, which should be avoided as value-mapping will have precedence in case its length matches with 'x' & 'y'.  Please use a 2-D array with a single row if you really want to specify the same RGB or RGBA value for all points.\n"
     ]
    },
    {
     "data": {
      "image/png": "[encoded data removed]",
      "text/plain": [
       "<Figure size 432x288 with 1 Axes>"
      ]
     },
     "metadata": {
      "needs_background": "light"
     },
     "output_type": "display_data"
    }
   ],
   "source": [
    "# Create some local variable X set that we can replace X_train easily by other data later (ie. X_test)\n",
    "X_set, y_set = X_train, y_train    \n",
    "# np.meshgrid prepares all the pixel points, min and max value +-1 because we don't want the points to be squeezed on the axes\n",
    "# X_set[:,0] is age and X_set[:,1] is salary in this case\n",
    "X1,X2 = np.meshgrid(np.arange(start=X_set[:,0].min()-1, stop=X_set[:,0].max()+1, step=0.01),\n",
    "                    np.arange(start=X_set[:,1].min()-1, stop=X_set[:,1].max()+1, step=0.01))\n",
    "# Use the contourf function to actually make the contour between the two prediction regions\n",
    "# X1.ravel() 将 matrix 变成 1D array\n",
    "plt.contourf(X1,X2,classifier.predict(np.array([X1.ravel(),X2.ravel()]).T).reshape(X1.shape),\n",
    "             alpha=0.75, cmap=ListedColormap(('red','green')))\n",
    "plt.xlim(X1.min(),X1.max())\n",
    "plt.ylim(X2.min(),X2.max())\n",
    "for i, j in enumerate(np.unique(y_set)):\n",
    "    plt.scatter(X_set[y_set==j,0],X_set[y_set==j,1],c=ListedColormap(('red','green'))(i),label=j)\n",
    "plt.title('SVM (Training Set)')\n",
    "plt.xlabel('Age')\n",
    "plt.ylabel('Estimated Salary')\n",
    "plt.legend()\n",
    "plt.show()"
   ]
  },
  {
   "cell_type": "markdown",
   "metadata": {},
   "source": [
    "## Naive Bayes"
   ]
  },
  {
   "cell_type": "markdown",
   "metadata": {},
   "source": [
    "### Bayes Theorem"
   ]
  },
  {
   "cell_type": "markdown",
   "metadata": {},
   "source": [
    "$P(A|B) = \\frac{P(B|A) * P(A)}{P(B)}$<br>\n",
    "$P(A|B)$： 在B发生的情况下，A发生的概率"
   ]
  },
  {
   "cell_type": "markdown",
   "metadata": {},
   "source": [
    "### Naive Bayes Classifier"
   ]
  },
  {
   "cell_type": "markdown",
   "metadata": {},
   "source": [
    "**STEP 1:** 计算 $P(B|X) = \\frac{P(X|B) * P(B)}{P(X)}$<br>\n",
    "\n",
    "$P(B)$ - Prior Probability<br>\n",
    "$P(B) = \\frac{Number of B}{Total Observations}$<br><br>\n",
    "$P(X)$ - Marginal Likelihood(新预测点的概率)：以新预测点为圆心，划一个范围(圆)，然后统计落入范围内的所有点数，在除以全部的点数。<br>\n",
    "$P(X) = \\frac{Number of Similar Observations}{Total Observations}$<img src='https://github.com/yunjcai/Machine-Learning-A-Z/blob/master/Part%203%20-%20Classification/naive_bayes_classifier_1.JPG?raw=true' width='500'>\n",
    "$P(X|B)$ - Likelihood: 同样以新预测点为圆心，划一个范围，统计落入范围内B点数，除以B总点数。<br>\n",
    "$P(X|B) = \\frac{Number of Similar Observations Among those B}{Total Number of B}$<br><br>\n",
    "$P(B|X)$ - Posterior Probability"
   ]
  },
  {
   "cell_type": "markdown",
   "metadata": {},
   "source": [
    "**STEP 2:** 计算 $P(A|X) = \\frac{P(X|A) * P(A)}{P(X)}$"
   ]
  },
  {
   "cell_type": "markdown",
   "metadata": {},
   "source": [
    "**STEP 3:** $P(A|X)$  v.s.  $P(B|X)$: 两者(概率)比大小。谁(A or B)大，则新预测点就归属谁。"
   ]
  },
  {
   "cell_type": "markdown",
   "metadata": {},
   "source": [
    "Bayes Theorem is based on independence assumption (for example, 'Age' and 'Salary' are independent)<br>\n",
    "More Classes : $P(A|X)$ v.s. $P(B|X)$ v.s.$P(C|X)$ 三者间两两比大小"
   ]
  },
  {
   "cell_type": "code",
   "execution_count": 13,
   "metadata": {},
   "outputs": [],
   "source": [
    "from sklearn.naive_bayes import GaussianNB\n",
    "classifier = GaussianNB().fit(X_train,y_train)    # No arguments needed"
   ]
  },
  {
   "cell_type": "code",
   "execution_count": 14,
   "metadata": {},
   "outputs": [
    {
     "data": {
      "text/plain": [
       "array([[65,  3],\n",
       "       [ 7, 25]], dtype=int64)"
      ]
     },
     "execution_count": 14,
     "metadata": {},
     "output_type": "execute_result"
    }
   ],
   "source": [
    "y_pred = classifier.predict(X_test)\n",
    "cm = confusion_matrix(y_test,y_pred)\n",
    "cm"
   ]
  },
  {
   "cell_type": "code",
   "execution_count": 16,
   "metadata": {},
   "outputs": [
    {
     "name": "stderr",
     "output_type": "stream",
     "text": [
      "'c' argument looks like a single numeric RGB or RGBA sequence, which should be avoided as value-mapping will have precedence in case its length matches with 'x' & 'y'.  Please use a 2-D array with a single row if you really want to specify the same RGB or RGBA value for all points.\n",
      "'c' argument looks like a single numeric RGB or RGBA sequence, which should be avoided as value-mapping will have precedence in case its length matches with 'x' & 'y'.  Please use a 2-D array with a single row if you really want to specify the same RGB or RGBA value for all points.\n"
     ]
    },
    {
     "data": {
      "image/png": "[encoded data removed]",
      "text/plain": [
       "<Figure size 432x288 with 1 Axes>"
      ]
     },
     "metadata": {
      "needs_background": "light"
     },
     "output_type": "display_data"
    }
   ],
   "source": [
    "# Create some local variable X set that we can replace X_train easily by other data later (ie. X_test)\n",
    "X_set, y_set = X_train, y_train    \n",
    "# np.meshgrid prepares all the pixel points, min and max value +-1 because we don't want the points to be squeezed on the axes\n",
    "# X_set[:,0] is age and X_set[:,1] is salary in this case\n",
    "X1,X2 = np.meshgrid(np.arange(start=X_set[:,0].min()-1, stop=X_set[:,0].max()+1, step=0.01),\n",
    "                    np.arange(start=X_set[:,1].min()-1, stop=X_set[:,1].max()+1, step=0.01))\n",
    "# Use the contourf function to actually make the contour between the two prediction regions\n",
    "# X1.ravel() 将 matrix 变成 1D array\n",
    "plt.contourf(X1,X2,classifier.predict(np.array([X1.ravel(),X2.ravel()]).T).reshape(X1.shape),\n",
    "             alpha=0.75, cmap=ListedColormap(('red','green')))\n",
    "plt.xlim(X1.min(),X1.max())\n",
    "plt.ylim(X2.min(),X2.max())\n",
    "for i, j in enumerate(np.unique(y_set)):\n",
    "    plt.scatter(X_set[y_set==j,0],X_set[y_set==j,1],c=ListedColormap(('red','green'))(i),label=j)\n",
    "plt.title('Naive Bayes (Training Set)')\n",
    "plt.xlabel('Age')\n",
    "plt.ylabel('Estimated Salary')\n",
    "plt.legend()\n",
    "plt.show()"
   ]
  },
  {
   "cell_type": "markdown",
   "metadata": {},
   "source": [
    "## Decision Tree Classification"
   ]
  },
  {
   "cell_type": "markdown",
   "metadata": {},
   "source": [
    "**Classification Trees :** it classifies the data for categorical variables such as male or female, apple or orange, different types of colors<br>\n",
    "**Regression Trees :** it predicts outcomes which can be real numbers such as salary or temperature\n",
    "\n",
    "**Entropy :** 每次 make decision 建立分支前的不确定程度(概率)。使用 Entropy 来测量每次分支后的质量<br>\n",
    "$Entropy = -p(A)log(P(A)) - p(B)log(P(B))$<br>\n",
    "**每次的 Entropy 越小，分支也会越少，每个节点的 category 也会越纯**"
   ]
  },
  {
   "cell_type": "markdown",
   "metadata": {},
   "source": [
    "### 选择哪项 attribute 来分类"
   ]
  },
  {
   "cell_type": "markdown",
   "metadata": {},
   "source": [
    "选用在分支后，Information Gain 高的那项 atrribute。<br>\n",
    "Information Gain is the information that can increase the level of certainty after splitting<br>\n",
    "**Information Gain** = (Entropy before split) - 当前分支点的概率 * (Entropy after split)<br>\n",
    "例如：当前是第n层分支(性别)，所以当前分支点(男或女)概率 = 50%。仅考虑当前的分支点的概率，不用考虑从头累积的概率。"
   ]
  },
  {
   "cell_type": "markdown",
   "metadata": {},
   "source": [
    "We must do preprocessing step (data scale) when the algorithm is based on Euclidean Distance.<br>\n",
    "Decision Tree is not using Euclidean Distance, so we don't need preprocessing step.<br>\n",
    "但是data scale后，运行速度会快很多。"
   ]
  },
  {
   "cell_type": "code",
   "execution_count": null,
   "metadata": {},
   "outputs": [],
   "source": [
    "from sklearn.tree import DecisionTreeClassifier\n",
    "classifier = DecisionTreeClassifier(criterion='entropy',random_state=0)\n",
    "classifier.fit(X_train,y_train)"
   ]
  },
  {
   "cell_type": "code",
   "execution_count": null,
   "metadata": {},
   "outputs": [],
   "source": [
    "y_pred = classifier.predict(X_test)\n",
    "cm = confusion_matrix(y_test,y_pred)\n",
    "cm"
   ]
  },
  {
   "cell_type": "code",
   "execution_count": 16,
   "metadata": {},
   "outputs": [
    {
     "name": "stderr",
     "output_type": "stream",
     "text": [
      "'c' argument looks like a single numeric RGB or RGBA sequence, which should be avoided as value-mapping will have precedence in case its length matches with 'x' & 'y'.  Please use a 2-D array with a single row if you really want to specify the same RGB or RGBA value for all points.\n",
      "'c' argument looks like a single numeric RGB or RGBA sequence, which should be avoided as value-mapping will have precedence in case its length matches with 'x' & 'y'.  Please use a 2-D array with a single row if you really want to specify the same RGB or RGBA value for all points.\n"
     ]
    },
    {
     "data": {
      "image/png": "[encoded data removed]",
      "text/plain": [
       "<Figure size 432x288 with 1 Axes>"
      ]
     },
     "metadata": {
      "needs_background": "light"
     },
     "output_type": "display_data"
    }
   ],
   "source": [
    "# Create some local variable X set that we can replace X_train easily by other data later (ie. X_test)\n",
    "X_set, y_set = X_train, y_train    \n",
    "# np.meshgrid prepares all the pixel points, min and max value +-1 because we don't want the points to be squeezed on the axes\n",
    "# X_set[:,0] is age and X_set[:,1] is salary in this case\n",
    "X1,X2 = np.meshgrid(np.arange(start=X_set[:,0].min()-1, stop=X_set[:,0].max()+1, step=0.01),\n",
    "                    np.arange(start=X_set[:,1].min()-1, stop=X_set[:,1].max()+1, step=0.01))\n",
    "# Use the contourf function to actually make the contour between the two prediction regions\n",
    "# X1.ravel() 将 matrix 变成 1D array\n",
    "plt.contourf(X1,X2,classifier.predict(np.array([X1.ravel(),X2.ravel()]).T).reshape(X1.shape),\n",
    "             alpha=0.75, cmap=ListedColormap(('red','green')))\n",
    "plt.xlim(X1.min(),X1.max())\n",
    "plt.ylim(X2.min(),X2.max())\n",
    "for i, j in enumerate(np.unique(y_set)):\n",
    "    plt.scatter(X_set[y_set==j,0],X_set[y_set==j,1],c=ListedColormap(('red','green'))(i),label=j)\n",
    "plt.title('Decision Tree (Training Set)')\n",
    "plt.xlabel('Age')\n",
    "plt.ylabel('Estimated Salary')\n",
    "plt.legend()\n",
    "plt.show()"
   ]
  },
  {
   "cell_type": "markdown",
   "metadata": {},
   "source": [
    "## Random Forest Classification"
   ]
  },
  {
   "cell_type": "markdown",
   "metadata": {},
   "source": [
    "Random Forest method would combine a lot of decision tree method.\n",
    "\n",
    "**STEP 1:** Pick at random K data points from the Training set<br>\n",
    "**STEP 2:** Build a decision tree only based on those picked K data points<br>\n",
    "**STEP 3:** Choose the number of trees you want to build and repeat STEP 1,2<br>\n",
    "**STEP 4:** For a new data point, make each one of your trees predict the category to which the data points belongs, and assign the new data point to the category that wins the majority vote"
   ]
  },
  {
   "cell_type": "code",
   "execution_count": null,
   "metadata": {},
   "outputs": [],
   "source": [
    "from sklearn.ensemble import RandomForestClassifier as RFC\n",
    "# n_estimators: 将使用多少 decision trees 来组成 random forest (default = 10)\n",
    "classifier = RFC(n_estimators=10,criterion='entropy',random_state=0).fit(X_train,y_train)"
   ]
  },
  {
   "cell_type": "code",
   "execution_count": null,
   "metadata": {},
   "outputs": [],
   "source": [
    "y_pred = classifier.predict(X_test)\n",
    "cm = confusion_matrix(y_test,y_pred)\n",
    "cm"
   ]
  },
  {
   "cell_type": "code",
   "execution_count": null,
   "metadata": {},
   "outputs": [],
   "source": [
    "# Create some local variable X set that we can replace X_train easily by other data later (ie. X_test)\n",
    "X_set, y_set = X_train, y_train    \n",
    "# np.meshgrid prepares all the pixel points, min and max value +-1 because we don't want the points to be squeezed on the axes\n",
    "# X_set[:,0] is age and X_set[:,1] is salary in this case\n",
    "X1,X2 = np.meshgrid(np.arange(start=X_set[:,0].min()-1, stop=X_set[:,0].max()+1, step=0.01),\n",
    "                    np.arange(start=X_set[:,1].min()-1, stop=X_set[:,1].max()+1, step=0.01))\n",
    "# Use the contourf function to actually make the contour between the two prediction regions\n",
    "# X1.ravel() 将 matrix 变成 1D array\n",
    "plt.contourf(X1,X2,classifier.predict(np.array([X1.ravel(),X2.ravel()]).T).reshape(X1.shape),\n",
    "             alpha=0.75, cmap=ListedColormap(('red','green')))\n",
    "plt.xlim(X1.min(),X1.max())\n",
    "plt.ylim(X2.min(),X2.max())\n",
    "for i, j in enumerate(np.unique(y_set)):\n",
    "    plt.scatter(X_set[y_set==j,0],X_set[y_set==j,1],c=ListedColormap(('red','green'))(i),label=j)\n",
    "plt.title('Random Forest (Training Set)')\n",
    "plt.xlabel('Age')\n",
    "plt.ylabel('Estimated Salary')\n",
    "plt.legend()\n",
    "plt.show()"
   ]
  },
  {
   "cell_type": "markdown",
   "metadata": {},
   "source": [
    "## Evaluating Classification Models Performance"
   ]
  },
  {
   "cell_type": "markdown",
   "metadata": {},
   "source": [
    "### False Positive & Negatives"
   ]
  },
  {
   "cell_type": "markdown",
   "metadata": {},
   "source": [
    "**False Positive (Type I Error)** means we predicted something will happen, but it actually doesn't happen<br>\n",
    "**False Negative (Type II Error)** means we predicted something won't happen, but it actually happens\n",
    "<img src='https://github.com/yunjcai/Machine-Learning-A-Z/blob/master/Part%203%20-%20Classification/false_positive_negative.JPG?raw=true' width='500'>\n",
    "<br>Type II Error 更严重(危险)，Type I Error 像是警告。(如，Type I Error 预测有地震，结果没有发生。Type II Error 预测没有地震，结果发生了)"
   ]
  },
  {
   "cell_type": "markdown",
   "metadata": {},
   "source": [
    "### Confusion Matrix"
   ]
  },
  {
   "cell_type": "markdown",
   "metadata": {},
   "source": [
    "<img src='https://github.com/yunjcai/Machine-Learning-A-Z/blob/master/Part%203%20-%20Classification/confusion_matrix.JPG?raw=true' width='700'>"
   ]
  },
  {
   "cell_type": "markdown",
   "metadata": {},
   "source": [
    "### CAP (Cumulative Accuracy Profile) Curve"
   ]
  },
  {
   "cell_type": "markdown",
   "metadata": {},
   "source": [
    "<img src='https://github.com/yunjcai/Machine-Learning-A-Z/blob/master/Part%203%20-%20Classification/cap_1.JPG?raw=true' width='500'>\n",
    "x-axis:累积输入模型的百分比。y-axis:累积成功(正确)的百分比。<br>\n",
    "Random Curve像是一条模型参考线。用普查的方式确定发生概率。<br>\n",
    "模型越接近random curve，模型表现越差。<br>\n",
    "好的模型curve，是用最少的输入%,得出最多的正确结论。比如 ideal curve (crystal ball) 用 10% 的输入量，找出全部 100% 可能成功的结果。"
   ]
  },
  {
   "cell_type": "markdown",
   "metadata": {},
   "source": [
    "### CAP Curve Analysis"
   ]
  },
  {
   "cell_type": "markdown",
   "metadata": {},
   "source": [
    "判断模型好坏，通过50%的输入量，来看模型能覆盖多少(%)成功率\n",
    "<img src='https://github.com/yunjcai/Machine-Learning-A-Z/blob/master/Part%203%20-%20Classification/cap_2.JPG?raw=true' width='500'>\n",
    "当模型覆盖率达到90%-100%，很有可能是 overfitting。"
   ]
  },
  {
   "cell_type": "markdown",
   "metadata": {},
   "source": [
    "### 各类估算指标"
   ]
  },
  {
   "cell_type": "markdown",
   "metadata": {},
   "source": [
    "Accuracy is not enough, so we should also look at other performance metrics like \n",
    "* Precision (measuring exactness)\n",
    "* Recall (measuring completeness) \n",
    "* F1 Score (compromise between Precision and Recall)\n",
    "\n",
    "Please find below these metrics formulas (TP = # True Positives, TN = # True Negatives, FP = # False Positives, FN = # False Negatives):\n",
    "* $Accuracy = \\frac{TP + TN}{TP + TN + FP + FN}$\n",
    "* $Precision = \\frac{TP}{TP + FP}$\n",
    "* $Recall = \\frac{TP}{TP + FN}$\n",
    "* $F1 Score = 2 \\frac{Precision * Recall}{Precision + Recall}$"
   ]
  },
  {
   "cell_type": "code",
   "execution_count": null,
   "metadata": {},
   "outputs": [],
   "source": [
    "def evaluate_performance(cm): # cm is confusion_matrix\n",
    "    TP = cm[0,0]\n",
    "    TN = cm[1,1]\n",
    "    FP = cm[0,1]\n",
    "    FN = cm[1,0]\n",
    "    accuracy = (TP + TN) / (TP + TN + FP + FN)\n",
    "    precision = TP / (TP + FP)\n",
    "    recall = TP / (TP + FN)\n",
    "    F1_score = 2 * (precision * recall) / (precision + recall)\n",
    "    print('Accuracy = ', accuracy)\n",
    "    print('Prcision = ', precision)\n",
    "    print('Recall = ', recall)\n",
    "    print('F1 Score = ', F1_score)"
   ]
  },
  {
   "cell_type": "markdown",
   "metadata": {},
   "source": [
    "### Python Metrics Library to Evaluating Performance"
   ]
  },
  {
   "cell_type": "markdown",
   "metadata": {},
   "source": [
    "**To evaluate the model performance**\n",
    "* from sklearn.metrics import accuracy_score\n",
    "* from sklearn.metrics import precision_score\n",
    "* from sklearn.metrics import recall_score\n",
    "* from sklearn.metrics import f1_score\n",
    "* from sklearn.metrics import classification_report\n",
    "\n",
    "print('Accuracy = ', accuracy_score(y_test,y_pred))<br>\n",
    "print('Prcision = ', precision_score(y_test,y_pred))<br>\n",
    "print('Recall = ', recall_score(y_test,y_pred))<br>\n",
    "print('F1 Score = ', f1_score(y_test,y_pred,average='weighted'))<br>\n",
    "\n",
    "print(classification_report(y_test, y_pred))"
   ]
  },
  {
   "cell_type": "markdown",
   "metadata": {},
   "source": [
    "## Conclusion of Classification"
   ]
  },
  {
   "cell_type": "markdown",
   "metadata": {},
   "source": [
    "### The pros and cons of each model"
   ]
  },
  {
   "cell_type": "markdown",
   "metadata": {},
   "source": [
    "<img src='https://github.com/yunjcai/Machine-Learning-A-Z/blob/master/Part%203%20-%20Classification/classification_pro_cons.JPG?raw=true' width='600'>"
   ]
  },
  {
   "cell_type": "markdown",
   "metadata": {},
   "source": [
    "### The Model Selection"
   ]
  },
  {
   "cell_type": "markdown",
   "metadata": {},
   "source": [
    "1. First need to figure out whether your problem is linear or non linear.\n",
    "2. If your problem is linear, you should go for Logistic Regression or SVM.\n",
    "3. If your problem is non linear, you should go for K-NN, Naive Bayes, Decision Tree or Random Forest."
   ]
  },
  {
   "cell_type": "markdown",
   "metadata": {},
   "source": [
    "Then from a business point of view, you would rather use:\n",
    "\n",
    "- Logistic Regression or Naive Bayes when you want to rank your predictions by their probability. For example if you want to rank your customers from the highest probability that they buy a certain product, to the lowest probability. Eventually that allows you to target your marketing campaigns. And of course for this type of business problem, you should use Logistic Regression if your problem is linear, and Naive Bayes if your problem is non linear.\n",
    "\n",
    "- SVM when you want to predict to which segment your customers belong to. Segments can be any kind of segments, for example some market segments you identified earlier with clustering.\n",
    "\n",
    "- Decision Tree when you want to have clear interpretation of your model results,\n",
    "\n",
    "- Random Forest when you are just looking for high performance with less need for interpretation. "
   ]
  },
  {
   "cell_type": "code",
   "execution_count": null,
   "metadata": {},
   "outputs": [],
   "source": []
  }
 ],
 "metadata": {
  "kernelspec": {
   "display_name": "Python 3",
   "language": "python",
   "name": "python3"
  },
  "language_info": {
   "codemirror_mode": {
    "name": "ipython",
    "version": 3
   },
   "file_extension": ".py",
   "mimetype": "text/x-python",
   "name": "python",
   "nbconvert_exporter": "python",
   "pygments_lexer": "ipython3",
   "version": "3.7.3"
  },
  "toc": {
   "base_numbering": 1,
   "nav_menu": {},
   "number_sections": false,
   "sideBar": true,
   "skip_h1_title": false,
   "title_cell": "Table of Contents",
   "title_sidebar": "Contents",
   "toc_cell": false,
   "toc_position": {},
   "toc_section_display": true,
   "toc_window_display": true
  },
  "varInspector": {
   "cols": {
    "lenName": 16,
    "lenType": 16,
    "lenVar": 40
   },
   "kernels_config": {
    "python": {
     "delete_cmd_postfix": "",
     "delete_cmd_prefix": "del ",
     "library": "var_list.py",
     "varRefreshCmd": "print(var_dic_list())"
    },
    "r": {
     "delete_cmd_postfix": ") ",
     "delete_cmd_prefix": "rm(",
     "library": "var_list.r",
     "varRefreshCmd": "cat(var_dic_list()) "
    }
   },
   "oldHeight": 345.090454,
   "position": {
    "height": "40px",
    "left": "1073.27px",
    "right": "20px",
    "top": "120px",
    "width": "250px"
   },
   "types_to_exclude": [
    "module",
    "function",
    "builtin_function_or_method",
    "instance",
    "_Feature"
   ],
   "varInspector_section_display": "none",
   "window_display": false
  }
 },
 "nbformat": 4,
 "nbformat_minor": 2
}
